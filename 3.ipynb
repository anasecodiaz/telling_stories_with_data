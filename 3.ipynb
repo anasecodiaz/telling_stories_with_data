{
 "cells": [
  {
   "cell_type": "code",
   "execution_count": 13,
   "metadata": {},
   "outputs": [
    {
     "name": "stdout",
     "output_type": "stream",
     "text": [
      "<iframe src=https://api.bls.gov/publicAPI/v1/timeseries/data/CFU0000008000 width=10000 height=100></iframe>\n",
      "<iframe src=https://data.bls.gov/registrationEngine/ width=10000 height=400></iframe>\n",
      "<iframe src=https://www.bls.gov/help/hlpforma.htm#CX width=10000 height=400></iframe>\n",
      "   footnotes period   periodName value  year\n",
      "0       [{}]    Q04  4th Quarter   2.0  2016\n",
      "1       [{}]    Q03  3rd Quarter   2.7  2016\n",
      "2       [{}]    Q02  2nd Quarter   0.6  2016\n",
      "3       [{}]    Q01  1st Quarter  -1.1  2016\n",
      "4       [{}]    Q04  4th Quarter  -2.7  2015\n",
      "5       [{}]    Q03  3rd Quarter   1.6  2015\n",
      "6       [{}]    Q02  2nd Quarter   1.6  2015\n",
      "7       [{}]    Q01  1st Quarter   2.4  2015\n",
      "8       [{}]    Q04  4th Quarter  -1.9  2014\n",
      "9       [{}]    Q03  3rd Quarter   3.7  2014\n",
      "10      [{}]    Q02  2nd Quarter   2.2  2014\n",
      "11      [{}]    Q01  1st Quarter  -3.3  2014\n",
      "12      [{}]    Q04  4th Quarter   4.1  2013\n",
      "13      [{}]    Q03  3rd Quarter   1.5  2013\n",
      "14      [{}]    Q02  2nd Quarter  -0.1  2013\n",
      "15      [{}]    Q01  1st Quarter   2.2  2013\n",
      "16      [{}]    Q04  4th Quarter  -1.5  2012\n",
      "17      [{}]    Q03  3rd Quarter  -1.0  2012\n",
      "18      [{}]    Q02  2nd Quarter   2.2  2012\n",
      "19      [{}]    Q01  1st Quarter   0.0  2012\n",
      "20      [{}]    Q04  4th Quarter   3.0  2011\n",
      "21      [{}]    Q03  3rd Quarter  -0.9  2011\n",
      "22      [{}]    Q02  2nd Quarter   1.1  2011\n",
      "23      [{}]    Q01  1st Quarter  -3.3  2011\n",
      "24      [{}]    Q04  4th Quarter   1.3  2010\n",
      "25      [{}]    Q03  3rd Quarter   2.2  2010\n",
      "26      [{}]    Q02  2nd Quarter   1.5  2010\n",
      "27      [{}]    Q01  1st Quarter   1.5  2010\n",
      "28      [{}]    Q04  4th Quarter   5.0  2009\n",
      "29      [{}]    Q03  3rd Quarter   6.5  2009\n",
      "30      [{}]    Q02  2nd Quarter   7.9  2009\n",
      "31      [{}]    Q01  1st Quarter   3.1  2009\n",
      "32      [{}]    Q04  4th Quarter  -2.2  2008\n",
      "33      [{}]    Q03  3rd Quarter   1.0  2008\n",
      "34      [{}]    Q02  2nd Quarter   3.9  2008\n",
      "35      [{}]    Q01  1st Quarter  -3.4  2008\n",
      "36      [{}]    Q04  4th Quarter   1.2  2007\n",
      "37      [{}]    Q03  3rd Quarter   4.8  2007\n",
      "38      [{}]    Q02  2nd Quarter   3.2  2007\n",
      "39      [{}]    Q01  1st Quarter   0.1  2007\n"
     ]
    },
    {
     "data": {
      "text/plain": [
       "<function matplotlib.pyplot.show>"
      ]
     },
     "execution_count": 13,
     "metadata": {},
     "output_type": "execute_result"
    },
    {
     "data": {
      "image/png": "[encoded data removed]",
      "text/plain": [
       "<matplotlib.figure.Figure at 0x7f36663d7ef0>"
      ]
     },
     "metadata": {},
     "output_type": "display_data"
    }
   ],
   "source": [
    "from IPython.display import HTML\n",
    "import getpass\n",
    "import requests\n",
    "import json\n",
    "import numpy as np\n",
    "import pandas as pd\n",
    "#import bokeh.plotting as bp\n",
    "import matplotlib.pyplot as mp\n",
    "\n",
    "def show_iframe(url, height=400, width=10000):\n",
    "    display_string = '<iframe src={url} width={w} height={h}></iframe>'.format(url=url, w=width, h=height)\n",
    "    print(display_string)\n",
    "    return HTML(display_string)\n",
    "\n",
    "show_iframe('https://api.bls.gov/publicAPI/v1/timeseries/data/CFU0000008000', height=100)\n",
    "\n",
    "#get registration key\n",
    "show_iframe('https://data.bls.gov/registrationEngine/')\n",
    "reg_key= getpass.getpass('Enter Registration Key: ')\n",
    "\n",
    "#define series identifier\n",
    "show_iframe('https://www.bls.gov/help/hlpforma.htm#CX', height=400)\n",
    "            \n",
    "#make get request\n",
    "'{a}_{b}'.format(a='c', b=1)\n",
    "\n",
    "series = 'PRS84006092'\n",
    "\n",
    "def capture_request(series, start, end, key=reg_key):\n",
    "    url = 'https://api.bls.gov/publicAPI/v2/timeseries/data/'\n",
    "    url += '?registrationkey={key}'.format(key=key)\n",
    "    data = json.dumps({\n",
    "        \"seriesid\": [series],\n",
    "        \"startyear\": str(start),\n",
    "        \"endyear\": str(end)\n",
    "    })\n",
    "    headers= {\n",
    "    \"Content-type\": \"application/json\"\n",
    "    }\n",
    "    result = requests.post(url, data=data, headers=headers)\n",
    "    return json.loads(result.text)\n",
    "\n",
    "json_data = capture_request(series, 2007, 2016)\n",
    "\n",
    "json_data\n",
    "\n",
    "#convert to dataframe and plot\n",
    "df_data = pd.DataFrame(json_data['Results']['series'][0]['data'])\n",
    "print(df_data)\n",
    "\n",
    "df_sub = df_data[['year', 'value']].astype(float).astype(int)\n",
    "df_sub.set_index('year', inplace=True)\n",
    "df_sub.sort_index(inplace=True)\n",
    "\n",
    "df_sub\n",
    "\n",
    "#df_sub.loc[2014:2015]\n",
    "\n",
    "#bp.output_file('figs/bls_api_fig.html')\n",
    "#fig = bp.figure(plot_width=500, plot_height=300)\n",
    "\n",
    "#fig.line(df_sub.index, df_sub['value'], line_width=3, color='#890d13')\n",
    "\n",
    "#fig.title.text = \"Bla\"\n",
    "#fig.xaxis.axis_label = \"Year\"\n",
    "#fig.yaxis.axis_label = \"Health Expenditures\"\n",
    "\n",
    "#bp.save(fig)\n",
    "\n",
    "#show_iframe('figs/bls_api_fig.html', width=550, height=350)\n",
    "\n",
    "x = df_sub.index\n",
    "y = df_sub['value']\n",
    "\n",
    "mp.plot(x,y)\n",
    "mp.title('Major')\n",
    "mp.xlabel('years')\n",
    "mp.ylabel('values')\n",
    "mp.show"
   ]
  },
  {
   "cell_type": "code",
   "execution_count": null,
   "metadata": {},
   "outputs": [],
   "source": []
  },
  {
   "cell_type": "code",
   "execution_count": null,
   "metadata": {},
   "outputs": [],
   "source": []
  }
 ],
 "metadata": {
  "kernelspec": {
   "display_name": "Python 3",
   "language": "python",
   "name": "python3"
  },
  "language_info": {
   "codemirror_mode": {
    "name": "ipython",
    "version": 3
   },
   "file_extension": ".py",
   "mimetype": "text/x-python",
   "name": "python",
   "nbconvert_exporter": "python",
   "pygments_lexer": "ipython3",
   "version": "3.6.3"
  }
 },
 "nbformat": 4,
 "nbformat_minor": 2
}
