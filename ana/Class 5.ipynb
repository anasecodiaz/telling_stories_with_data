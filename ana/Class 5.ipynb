{
 "cells": [
  {
   "cell_type": "code",
   "execution_count": 1,
   "metadata": {},
   "outputs": [
    {
     "data": {
      "text/plain": [
       "True"
      ]
     },
     "execution_count": 1,
     "metadata": {},
     "output_type": "execute_result"
    }
   ],
   "source": [
    "test = 3 < 4\n",
    "test"
   ]
  },
  {
   "cell_type": "code",
   "execution_count": 3,
   "metadata": {},
   "outputs": [
    {
     "name": "stdout",
     "output_type": "stream",
     "text": [
      "x\n"
     ]
    }
   ],
   "source": [
    "if test:\n",
    "    print('x')\n",
    "else:\n",
    "    print('y')"
   ]
  },
  {
   "cell_type": "code",
   "execution_count": 7,
   "metadata": {},
   "outputs": [
    {
     "name": "stdout",
     "output_type": "stream",
     "text": [
      "True\n",
      "False\n",
      "False\n",
      "True\n",
      "True\n",
      "False\n"
     ]
    }
   ],
   "source": [
    "print(True & True)\n",
    "print(True & False)\n",
    "print(False & False)\n",
    "print(True | True)\n",
    "print(True | False)\n",
    "print(False | False)"
   ]
  },
  {
   "cell_type": "code",
   "execution_count": 8,
   "metadata": {},
   "outputs": [
    {
     "name": "stdout",
     "output_type": "stream",
     "text": [
      "True\n"
     ]
    }
   ],
   "source": [
    "print(True & (False | True))"
   ]
  },
  {
   "cell_type": "code",
   "execution_count": 14,
   "metadata": {},
   "outputs": [
    {
     "name": "stdout",
     "output_type": "stream",
     "text": [
      "z\n"
     ]
    }
   ],
   "source": [
    "if test & False:\n",
    "    print('x')\n",
    "elif (5<10):\n",
    "    print('z')\n",
    "else:\n",
    "    print('y')"
   ]
  },
  {
   "cell_type": "code",
   "execution_count": 11,
   "metadata": {},
   "outputs": [
    {
     "name": "stdout",
     "output_type": "stream",
     "text": [
      "0\n",
      "2\n",
      "4\n",
      "6\n",
      "8\n"
     ]
    }
   ],
   "source": [
    "xs = range(10)\n",
    "\n",
    "for x in xs:\n",
    "    if (x % 2 == 0):\n",
    "        print(x)\n",
    "        \n",
    "# % --> remainders"
   ]
  },
  {
   "cell_type": "code",
   "execution_count": 13,
   "metadata": {},
   "outputs": [
    {
     "name": "stdout",
     "output_type": "stream",
     "text": [
      "1 1\n",
      "2 0\n",
      "3 1\n",
      "4 0\n",
      "5 1\n",
      "6 0\n",
      "7 1\n",
      "8 0\n",
      "9 1\n",
      "10 0\n"
     ]
    }
   ],
   "source": [
    "for i in range(1,11):\n",
    "    print(i, i%2)\n",
    "    \n",
    "#for each element in this collection perform this operation"
   ]
  },
  {
   "cell_type": "code",
   "execution_count": 17,
   "metadata": {},
   "outputs": [
    {
     "name": "stdout",
     "output_type": "stream",
     "text": [
      "Apple\n",
      "Banana\n",
      "Grapefruit\n",
      "Starfruit\n"
     ]
    }
   ],
   "source": [
    "for fruit in ['apple', 'banana', 'grapefruit', 'starfruit']:\n",
    "    print(fruit.title())"
   ]
  },
  {
   "cell_type": "code",
   "execution_count": 19,
   "metadata": {},
   "outputs": [
    {
     "data": {
      "text/plain": [
       "['C']"
      ]
     },
     "execution_count": 19,
     "metadata": {},
     "output_type": "execute_result"
    }
   ],
   "source": [
    "#list comprehension - compact way of writing a loop\n",
    "\n",
    "#do something to element for each element in collection if condition\n",
    "\n",
    "[x.upper() for x in 'abcde' if x != 'c']"
   ]
  },
  {
   "cell_type": "code",
   "execution_count": 25,
   "metadata": {},
   "outputs": [
    {
     "name": "stdout",
     "output_type": "stream",
     "text": [
      "dict_keys(['a', 'b', 'c'])\n",
      "dict_values([1, 2, 3])\n",
      "dict_items([('a', 1), ('b', 2), ('c', 3)])\n"
     ]
    }
   ],
   "source": [
    "d = {'a':1, 'b':2, 'c':3}\n",
    "d\n",
    "\n",
    "# a, b, c are keys\n",
    "#to unpack:\n",
    "#give me all the keys/values/items:\n",
    "\n",
    "print(d.keys())\n",
    "print(d.values())\n",
    "print(d.items())\n"
   ]
  },
  {
   "cell_type": "code",
   "execution_count": 26,
   "metadata": {},
   "outputs": [
    {
     "data": {
      "text/plain": [
       "{1: 'a', 2: 'b', 3: 'c'}"
      ]
     },
     "execution_count": 26,
     "metadata": {},
     "output_type": "execute_result"
    }
   ],
   "source": [
    "#build the reverse\n",
    "\n",
    "{v:k for (k,v) in d.items()}"
   ]
  },
  {
   "cell_type": "markdown",
   "metadata": {},
   "source": [
    "FUNCTIONS"
   ]
  },
  {
   "cell_type": "code",
   "execution_count": 27,
   "metadata": {},
   "outputs": [
    {
     "data": {
      "text/plain": [
       "5"
      ]
     },
     "execution_count": 27,
     "metadata": {},
     "output_type": "execute_result"
    }
   ],
   "source": [
    "def add(x,y):\n",
    "    return x+y\n",
    "add(2,3)"
   ]
  },
  {
   "cell_type": "code",
   "execution_count": 28,
   "metadata": {},
   "outputs": [
    {
     "data": {
      "text/plain": [
       "5"
      ]
     },
     "execution_count": 28,
     "metadata": {},
     "output_type": "execute_result"
    }
   ],
   "source": [
    "2+3"
   ]
  },
  {
   "cell_type": "code",
   "execution_count": 30,
   "metadata": {},
   "outputs": [
    {
     "name": "stdout",
     "output_type": "stream",
     "text": [
      "10.0\n",
      "15.0\n"
     ]
    }
   ],
   "source": [
    "def calc_tip(gross, tip_pct = 0.2):\n",
    "    return gross * tip_pct\n",
    "\n",
    "print(calc_tip(50))\n",
    "print(calc_tip(50, 0.3))"
   ]
  },
  {
   "cell_type": "markdown",
   "metadata": {},
   "source": [
    "ITERATION"
   ]
  },
  {
   "cell_type": "code",
   "execution_count": 32,
   "metadata": {},
   "outputs": [
    {
     "name": "stdout",
     "output_type": "stream",
     "text": [
      "0\n",
      "1\n",
      "2\n",
      "3\n",
      "4\n",
      "5\n"
     ]
    }
   ],
   "source": [
    "mylist = [0,1,2,3,4,5]\n",
    "mytuple = (0,1,2,3,4,5)\n",
    "myset = {0,1,2,3,4,5}\n",
    "mydict = {'a':0, 'b':1, 'c':2, 'd':3, 'e':4, 'f':6}\n",
    "\n",
    "for num in mylist:\n",
    "    print(num)\n",
    "    \n",
    "#help(mylist)"
   ]
  },
  {
   "cell_type": "markdown",
   "metadata": {},
   "source": [
    "Generator --> generates numbers, not a closed list... you cant index them because they dont exist until they are caleld\n",
    "\n",
    "For colours: hex color, color brewer"
   ]
  },
  {
   "cell_type": "code",
   "execution_count": 34,
   "metadata": {},
   "outputs": [
    {
     "name": "stdout",
     "output_type": "stream",
     "text": [
      "The year is 2010 and it is cold\n",
      "The year is 2011 and it is cold\n",
      "The year is 2012 and it is cold\n",
      "The year is 2013 and it is cold\n",
      "The year is 2014 and it is cold\n",
      "The year is 2015 and it is cold\n",
      "The year is 2016 and it is cold\n",
      "The year is 2017 and it is cold\n",
      "The year is 2018 and it is cold\n"
     ]
    }
   ],
   "source": [
    "for i in range(2010, 2019):\n",
    "    print('The year is {yr} and it is {temp}'.format(yr=i, temp='cold'))\n",
    "    \n",
    "#string interpolation"
   ]
  },
  {
   "cell_type": "code",
   "execution_count": 35,
   "metadata": {},
   "outputs": [
    {
     "data": {
      "text/plain": [
       "'The year is 2018'"
      ]
     },
     "execution_count": 35,
     "metadata": {},
     "output_type": "execute_result"
    }
   ],
   "source": [
    "'The year is ' + str(2018)"
   ]
  },
  {
   "cell_type": "raw",
   "metadata": {},
   "source": [
    "INPUT/OUTPUT"
   ]
  },
  {
   "cell_type": "code",
   "execution_count": null,
   "metadata": {},
   "outputs": [],
   "source": [
    "f = open('test_io', 'w')\n",
    "f.write()\n",
    "f.close()"
   ]
  },
  {
   "cell_type": "code",
   "execution_count": 38,
   "metadata": {},
   "outputs": [],
   "source": [
    "with open('test_io', 'w') as f:\n",
    "    f.write('We wrote stuff')"
   ]
  },
  {
   "cell_type": "code",
   "execution_count": 39,
   "metadata": {},
   "outputs": [
    {
     "name": "stdout",
     "output_type": "stream",
     "text": [
      "We wrote stuff"
     ]
    }
   ],
   "source": [
    "!cat test_io"
   ]
  },
  {
   "cell_type": "code",
   "execution_count": 40,
   "metadata": {},
   "outputs": [
    {
     "name": "stdout",
     "output_type": "stream",
     "text": [
      "We wrote stuff\n"
     ]
    }
   ],
   "source": [
    "with open('test_io', 'r') as f:\n",
    "    io_text = f.read()\n",
    "\n",
    "print(io_text)"
   ]
  },
  {
   "cell_type": "code",
   "execution_count": null,
   "metadata": {},
   "outputs": [],
   "source": []
  },
  {
   "cell_type": "code",
   "execution_count": 43,
   "metadata": {},
   "outputs": [],
   "source": [
    "import numpy as np\n",
    "import pandas as pd"
   ]
  },
  {
   "cell_type": "code",
   "execution_count": 44,
   "metadata": {},
   "outputs": [
    {
     "data": {
      "text/html": [
       "<div>\n",
       "<style scoped>\n",
       "    .dataframe tbody tr th:only-of-type {\n",
       "        vertical-align: middle;\n",
       "    }\n",
       "\n",
       "    .dataframe tbody tr th {\n",
       "        vertical-align: top;\n",
       "    }\n",
       "\n",
       "    .dataframe thead th {\n",
       "        text-align: right;\n",
       "    }\n",
       "</style>\n",
       "<table border=\"1\" class=\"dataframe\">\n",
       "  <thead>\n",
       "    <tr style=\"text-align: right;\">\n",
       "      <th></th>\n",
       "      <th>0</th>\n",
       "      <th>1</th>\n",
       "      <th>2</th>\n",
       "      <th>3</th>\n",
       "    </tr>\n",
       "  </thead>\n",
       "  <tbody>\n",
       "    <tr>\n",
       "      <th>0</th>\n",
       "      <td>0.115235</td>\n",
       "      <td>0.371039</td>\n",
       "      <td>0.131944</td>\n",
       "      <td>0.368643</td>\n",
       "    </tr>\n",
       "    <tr>\n",
       "      <th>1</th>\n",
       "      <td>0.767868</td>\n",
       "      <td>0.636341</td>\n",
       "      <td>0.862281</td>\n",
       "      <td>0.760159</td>\n",
       "    </tr>\n",
       "    <tr>\n",
       "      <th>2</th>\n",
       "      <td>0.808761</td>\n",
       "      <td>0.390523</td>\n",
       "      <td>0.690123</td>\n",
       "      <td>0.248777</td>\n",
       "    </tr>\n",
       "    <tr>\n",
       "      <th>3</th>\n",
       "      <td>0.331421</td>\n",
       "      <td>0.094250</td>\n",
       "      <td>0.559974</td>\n",
       "      <td>0.606675</td>\n",
       "    </tr>\n",
       "  </tbody>\n",
       "</table>\n",
       "</div>"
      ],
      "text/plain": [
       "          0         1         2         3\n",
       "0  0.115235  0.371039  0.131944  0.368643\n",
       "1  0.767868  0.636341  0.862281  0.760159\n",
       "2  0.808761  0.390523  0.690123  0.248777\n",
       "3  0.331421  0.094250  0.559974  0.606675"
      ]
     },
     "execution_count": 44,
     "metadata": {},
     "output_type": "execute_result"
    }
   ],
   "source": [
    "data = pd.DataFrame(np.random.uniform(size=16).reshape(4,4))\n",
    "\n",
    "data"
   ]
  },
  {
   "cell_type": "code",
   "execution_count": 45,
   "metadata": {},
   "outputs": [
    {
     "name": "stdout",
     "output_type": "stream",
     "text": [
      "/Users/anasecodiaz/GitHub/telling_stories_with_data/examples\n",
      "\u001b[34m.ipynb_checkpoints\u001b[m\u001b[m    \u001b[34mfigs\u001b[m\u001b[m                  test_io\n",
      "Untitled.ipynb        random_data.csv\n",
      "api_example.ipynb     simulating_data.ipynb\n"
     ]
    }
   ],
   "source": [
    "data.to_csv('random_data.csv')\n",
    "!pwd\n",
    "!ls"
   ]
  },
  {
   "cell_type": "code",
   "execution_count": 46,
   "metadata": {},
   "outputs": [
    {
     "name": "stdout",
     "output_type": "stream",
     "text": [
      "/Users/anasecodiaz/GitHub/telling_stories_with_data/ana/random_data.csv\n"
     ]
    }
   ],
   "source": [
    "data_dir = '/Users/anasecodiaz/GitHub/telling_stories_with_data/ana/'\n",
    "print(data_dir + 'random_data.csv')\n",
    "data.to_csv(data_dir+'random_data2.csv')"
   ]
  },
  {
   "cell_type": "code",
   "execution_count": null,
   "metadata": {},
   "outputs": [],
   "source": []
  }
 ],
 "metadata": {
  "kernelspec": {
   "display_name": "Python 3",
   "language": "python",
   "name": "python3"
  },
  "language_info": {
   "codemirror_mode": {
    "name": "ipython",
    "version": 3
   },
   "file_extension": ".py",
   "mimetype": "text/x-python",
   "name": "python",
   "nbconvert_exporter": "python",
   "pygments_lexer": "ipython3",
   "version": "3.6.3"
  }
 },
 "nbformat": 4,
 "nbformat_minor": 2
}
